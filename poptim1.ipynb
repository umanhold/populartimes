{
 "cells": [
  {
   "cell_type": "markdown",
   "metadata": {},
   "source": [
    "# Libaries and definitions"
   ]
  },
  {
   "cell_type": "code",
   "execution_count": null,
   "metadata": {},
   "outputs": [],
   "source": [
    "# Import libaries\n",
    "\n",
    "import populartimes\n",
    "import pandas as pd\n",
    "import numpy as np\n",
    "import matplotlib.pyplot as plt\n",
    "import matplotlib.cm\n",
    "import os\n",
    "import conda\n",
    "import imageio\n",
    "from natsort import natsorted, ns\n",
    "\n",
    "# work around to import basemap \n",
    "conda_file_dir = conda.__file__\n",
    "conda_dir = conda_file_dir.split('lib')[0]\n",
    "proj_lib = os.path.join(os.path.join(conda_dir, 'share'), 'proj')\n",
    "os.environ[\"PROJ_LIB\"] = proj_lib\n",
    "\n",
    "from mpl_toolkits.basemap import Basemap\n",
    "from matplotlib.patches import Polygon\n",
    "\n",
    "    # Define variables\n",
    "\n",
    "# Project directory & name\n",
    "pdir = \"/home/ubuntu/Documents/Sound_Diplomacy/Projects\"\n",
    "pname = \"berlin\"\n",
    "\n",
    "# Popular times\n",
    "api_key = \"\n",
    "types = [\"bar\"] # https://developers.google.com/places/supported_types\n",
    "p1 = [52.514514, 13.460177]  # lower bound - lat/lng of point delimiting the search are\n",
    "p2 = [52.512791, 13.458323]  # upper bound - lat/lng of point delimiting the search are\n",
    "\n",
    "# Colors\n",
    "\n",
    "sdcol = '#23b5b5'\n",
    "\n",
    "# Basemap\n",
    "width = 52000\n",
    "height = 42000\n",
    "resol = 'i'\n",
    "proj = 'tmerc'\n",
    "lat0 = 52.511677\n",
    "lon0 = 13.401777\n",
    "\n",
    "fillcol = 'aqua'\n",
    "lakecol = 'aqua'\n",
    "contcol = 'white'\n",
    "\n",
    "# Gif\n",
    "my_dpi=300\n",
    "mcol = sdcol"
   ]
  },
  {
   "cell_type": "markdown",
   "metadata": {},
   "source": [
    "# Functions"
   ]
  },
  {
   "cell_type": "code",
   "execution_count": null,
   "metadata": {},
   "outputs": [],
   "source": [
    "# flattens coordinate dictionary, creates daytime (e.g. Mon23)\n",
    "\n",
    "def edit(lst):\n",
    "    \n",
    "    n = len(lst)\n",
    "    \n",
    "    for place in range(0,n):\n",
    "        \n",
    "        # get latitude and longitude from coordinates\n",
    "        lat_dict = {'lat': lst[place]['coordinates']['lat']}\n",
    "        lng_dict = {'lng': lst[place]['coordinates']['lng']}\n",
    "            \n",
    "        # add to list\n",
    "        lst[place].update(lat_dict)\n",
    "        lst[place].update(lng_dict)\n",
    "        \n",
    "        # create and add daytime\n",
    "        for day in range(0,7):\n",
    "            for time in range(0,24):\n",
    "\n",
    "                day_str = lst[place]['populartimes'][day]['name'][:3] # get first three letter of the weekday\n",
    "                daytime_dict = {day_str + str(time): lst[place]['populartimes'][day]['data'][time]} # weekday + daytime\n",
    "                lst[place].update(daytime_dict)\n",
    "            \n",
    "    return lst\n",
    "\n",
    "# creates data frame from list, edits data frame, returns it and exports it to csv\n",
    "\n",
    "def process(lst, pnam):\n",
    "    \n",
    "    edit(lst)\n",
    "    \n",
    "    # turn to data frame\n",
    "    df = pd.DataFrame(lst)    \n",
    "    \n",
    "    # drop dictonaries, reshape to panel data\n",
    "    df = df.drop(columns=['populartimes', 'coordinates'])\n",
    "    df = df.melt(id_vars=['name','rating','rating_n','time_spent','types','address','id','lat','lng'])\n",
    "    \n",
    "    # day variable\n",
    "    df['day'] = df['variable'].str.extract('([A-Z]\\w\\w)', expand=True)\n",
    "    days = {'Mon': 1,'Tue': 2,'Wed': 3,'Thu': 4,'Fri': 5,'Sat': 6,'Sun': 7}\n",
    "    df.day = [days[item] for item in df.day]\n",
    "    \n",
    "    # day time variable\n",
    "    df['time'] = df['variable'].str.extract('([0-9]+)', expand=True)\n",
    "    df['time'] = df['time'].astype(str).astype(int)\n",
    "    \n",
    "    # drop obsolete columns, sort by name weekday and day time\n",
    "    #df = df.drop(columns=['variable'])\n",
    "    df = df.rename(index=str, columns={\"variable\": \"daytime\"})\n",
    "    df = df.sort_values(by=['name','day','time'])\n",
    "    \n",
    "    os.chdir(pdir+\"/Populartimes/data\")\n",
    "    df.to_csv(pnam+\".csv\", index=False)\n",
    "    \n",
    "    return df\n",
    "\n",
    "def plotgif(df):\n",
    "\n",
    "    daytim = df.drop_duplicates('daytime')['daytime']\n",
    "    poptim = df.sort_values(by=['day','time','name']) # important!\n",
    "\n",
    "    df.set_index(\"daytime\", inplace=True)\n",
    "    df.head()\n",
    "\n",
    "    lat = np.array(df.loc['Mon0'].lat)\n",
    "    lng = np.array(df.loc['Mon0'].lng)\n",
    "\n",
    "    values = np.array(df.value)\n",
    "\n",
    "    npla = len(lat) # number of places (counted by different latitudes)\n",
    "    nval = len(values) # number of values\n",
    "    nimg = int(nval/npla) # number of images\n",
    "\n",
    "    msizes = {} # dictionary for marker sizes\n",
    "\n",
    "    for no, i in enumerate(range(0,nval,npla)):\n",
    "        j=i+npla\n",
    "        msizes[\"msize{0}\".format(no)] = 1+1.02*values[i:j]\n",
    "\n",
    "    os.chdir(pdir+\"/Populartimes/graphs/gif/files\")\n",
    "\n",
    "    for i in range(0,nimg):\n",
    "        msize = msizes['msize'+str(i)]\n",
    "        fig = plt.figure(figsize=(480/my_dpi, 480/my_dpi), dpi=my_dpi)\n",
    "        ax = fig.gca()\n",
    "        _ = ax.set(xlim=(52.512,52.515), ylim=(13.458,13.461))\n",
    "        _ = ax.axis('off')\n",
    "        _ = ax.set_title(daytim[i], fontsize=5)\n",
    "        _ = ax.scatter(lat, lng, color=mcol, s=msize)\n",
    "        filename = 'img'+str(i)+'.png'\n",
    "        plt.savefig(filename, dpi=my_dpi)\n",
    "        plt.clf()\n",
    "        \n",
    "    png_dir= pdir+\"/Populartimes/graphs/gif/files\"\n",
    "    images=[]\n",
    "    for file_name in natsorted(os.listdir(png_dir)):\n",
    "        if file_name.endswith('.png'):\n",
    "            file_path = os.path.join(png_dir, file_name)\n",
    "            images.append(imageio.imread(file_path))\n",
    "\n",
    "    os.chdir(pdir+\"/Populartimes/graphs/gif\")\n",
    "    imageio.mimsave('populartimes_'+str(pname)+'.gif', images, duration=0.15)\n",
    "    \n",
    "def plotmarks(dta):\n",
    "    lng = np.array(dta.lng)\n",
    "    lat = np.array(dta.lat)\n",
    "    val = np.array(dta.value)\n",
    "    x, y = map(lng, lat)\n",
    "    msize = 1 + val\n",
    "    map.plot(x, y, 'o',markersize=msize, color=mcol, alpha=0.8) # what does alpha do?\n"
   ]
  },
  {
   "cell_type": "markdown",
   "metadata": {},
   "source": [
    "# Get popular times data"
   ]
  },
  {
   "cell_type": "code",
   "execution_count": null,
   "metadata": {},
   "outputs": [],
   "source": [
    "poptim_rawdata = populartimes.get(api_key, types, p1, p2)"
   ]
  },
  {
   "cell_type": "markdown",
   "metadata": {},
   "source": [
    "# Process popular time data"
   ]
  },
  {
   "cell_type": "code",
   "execution_count": null,
   "metadata": {},
   "outputs": [],
   "source": [
    "poptim = process(poptim_rawdata, pname)"
   ]
  },
  {
   "cell_type": "markdown",
   "metadata": {},
   "source": [
    "# Map"
   ]
  },
  {
   "cell_type": "code",
   "execution_count": null,
   "metadata": {},
   "outputs": [],
   "source": [
    "width = 500\n",
    "height = 420\n",
    "resol = 'i'\n",
    "proj = 'tmerc'\n",
    "lat0 = 52.5134798\n",
    "lon0 = 13.4588845\n",
    "\n",
    "# Draw basemap\n",
    "\n",
    "os.chdir(pdir+\"/Populartimes/shapefiles\")\n",
    "#os.chdir(pdir+\"/Populartimes/shapefiles/openstreetmap\")\n",
    "\n",
    "map = Basemap(width=width, height=height, resolution=resol, projection=proj, lat_0 = lat0, lon_0 = lon0)\n",
    "map.drawmapboundary(fill_color=fillcol)\n",
    "map.fillcontinents(color=contcol,lake_color=lakecol)\n",
    "map.drawcoastlines()\n",
    "map.readshapefile('Bezirke__Berlin', 'berlin')\n",
    "#map.readshapefile('gis_osm_roads_free_1', 'berlin')\n",
    "\n",
    "poptim = poptim.drop_duplicates('lat')    \n",
    "poptim.apply(plotmarks, axis=1)\n",
    "    \n",
    "plt.show()"
   ]
  },
  {
   "cell_type": "markdown",
   "metadata": {},
   "source": [
    "# Gif"
   ]
  },
  {
   "cell_type": "code",
   "execution_count": null,
   "metadata": {
    "scrolled": false
   },
   "outputs": [],
   "source": [
    "os.chdir(pdir+\"/Populartimes/data\")\n",
    "poptim = pd.read_csv(\"berlin.csv\")\n",
    "plotgif(poptim)"
   ]
  },
  {
   "cell_type": "code",
   "execution_count": null,
   "metadata": {},
   "outputs": [],
   "source": []
  },
  {
   "cell_type": "code",
   "execution_count": null,
   "metadata": {
    "scrolled": false
   },
   "outputs": [],
   "source": []
  },
  {
   "cell_type": "code",
   "execution_count": null,
   "metadata": {},
   "outputs": [],
   "source": []
  },
  {
   "cell_type": "code",
   "execution_count": null,
   "metadata": {},
   "outputs": [],
   "source": []
  }
 ],
 "metadata": {
  "kernelspec": {
   "display_name": "Python 3",
   "language": "python",
   "name": "python3"
  },
  "language_info": {
   "codemirror_mode": {
    "name": "ipython",
    "version": 3
   },
   "file_extension": ".py",
   "mimetype": "text/x-python",
   "name": "python",
   "nbconvert_exporter": "python",
   "pygments_lexer": "ipython3",
   "version": "3.7.3"
  }
 },
 "nbformat": 4,
 "nbformat_minor": 2
}
